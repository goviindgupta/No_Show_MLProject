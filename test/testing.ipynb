{
 "cells": [
  {
   "cell_type": "code",
   "execution_count": 39,
   "metadata": {},
   "outputs": [],
   "source": [
    "from sklearn.model_selection import train_test_split, RandomizedSearchCV, StratifiedKFold\n",
    "from sklearn.ensemble import RandomForestClassifier\n",
    "from sklearn.metrics import classification_report, confusion_matrix\n",
    "from sklearn.preprocessing import StandardScaler\n",
    "from sklearn.impute import SimpleImputer\n",
    "from imblearn.over_sampling import SMOTE\n",
    " \n",
    "import numpy as np\n",
    "import pandas as pd\n",
    "import sklearn\n",
    "import scipy\n",
    "import matplotlib.pyplot as plt\n",
    "import seaborn as sns\n",
    "from sklearn.metrics import classification_report, accuracy_score\n",
    "from sklearn.ensemble import IsolationForest\n",
    "from sklearn.neighbors import LocalOutlierFactor\n",
    "from sklearn.svm import OneClassSVM\n",
    "from pylab import rcParams\n",
    " \n",
    "rcParams['figure.figsize'] = 14, 8\n",
    "RANDOM_SEED = 42\n",
    "# Define labels for the target variable\n",
    "LABELS = [\"Show\", \"No Show\"]\n",
    " "
   ]
  },
  {
   "cell_type": "code",
   "execution_count": 40,
   "metadata": {},
   "outputs": [],
   "source": [
    "data = pd.read_csv('raw_data.csv')"
   ]
  },
  {
   "cell_type": "code",
   "execution_count": 41,
   "metadata": {},
   "outputs": [
    {
     "data": {
      "text/html": [
       "<div>\n",
       "<style scoped>\n",
       "    .dataframe tbody tr th:only-of-type {\n",
       "        vertical-align: middle;\n",
       "    }\n",
       "\n",
       "    .dataframe tbody tr th {\n",
       "        vertical-align: top;\n",
       "    }\n",
       "\n",
       "    .dataframe thead th {\n",
       "        text-align: right;\n",
       "    }\n",
       "</style>\n",
       "<table border=\"1\" class=\"dataframe\">\n",
       "  <thead>\n",
       "    <tr style=\"text-align: right;\">\n",
       "      <th></th>\n",
       "      <th>Gender</th>\n",
       "      <th>Age</th>\n",
       "      <th>Alcohol_Consumption</th>\n",
       "      <th>Hypertension</th>\n",
       "      <th>Diabetes</th>\n",
       "      <th>Appointment_Date</th>\n",
       "      <th>Schedule_Date</th>\n",
       "      <th>Clinic_Location</th>\n",
       "      <th>Specialty</th>\n",
       "      <th>Neighborhood</th>\n",
       "      <th>target_no_show</th>\n",
       "    </tr>\n",
       "  </thead>\n",
       "  <tbody>\n",
       "    <tr>\n",
       "      <th>0</th>\n",
       "      <td>F</td>\n",
       "      <td>43</td>\n",
       "      <td>5/week</td>\n",
       "      <td>False</td>\n",
       "      <td>False</td>\n",
       "      <td>2021-01-14 10:30:00</td>\n",
       "      <td>2020-10-26</td>\n",
       "      <td>Mission Bay</td>\n",
       "      <td>Human Performance Center</td>\n",
       "      <td>Russian Hill</td>\n",
       "      <td>False</td>\n",
       "    </tr>\n",
       "    <tr>\n",
       "      <th>1</th>\n",
       "      <td>F</td>\n",
       "      <td>43</td>\n",
       "      <td>5/week</td>\n",
       "      <td>False</td>\n",
       "      <td>False</td>\n",
       "      <td>2021-01-14 10:30:00</td>\n",
       "      <td>2020-10-26</td>\n",
       "      <td>Mission Bay</td>\n",
       "      <td>Human Performance Center</td>\n",
       "      <td>Russian Hill</td>\n",
       "      <td>False</td>\n",
       "    </tr>\n",
       "  </tbody>\n",
       "</table>\n",
       "</div>"
      ],
      "text/plain": [
       "  Gender  Age Alcohol_Consumption  Hypertension  Diabetes  \\\n",
       "0      F   43              5/week         False     False   \n",
       "1      F   43              5/week         False     False   \n",
       "\n",
       "      Appointment_Date Schedule_Date Clinic_Location  \\\n",
       "0  2021-01-14 10:30:00    2020-10-26     Mission Bay   \n",
       "1  2021-01-14 10:30:00    2020-10-26     Mission Bay   \n",
       "\n",
       "                  Specialty  Neighborhood  target_no_show  \n",
       "0  Human Performance Center  Russian Hill           False  \n",
       "1  Human Performance Center  Russian Hill           False  "
      ]
     },
     "execution_count": 41,
     "metadata": {},
     "output_type": "execute_result"
    }
   ],
   "source": [
    "data.head(2)"
   ]
  },
  {
   "cell_type": "code",
   "execution_count": 42,
   "metadata": {},
   "outputs": [
    {
     "name": "stdout",
     "output_type": "stream",
     "text": [
      "Gender                 object\n",
      "Age                     int64\n",
      "Alcohol_Consumption    object\n",
      "Hypertension             bool\n",
      "Diabetes                 bool\n",
      "Appointment_Date       object\n",
      "Schedule_Date          object\n",
      "Clinic_Location        object\n",
      "Specialty              object\n",
      "Neighborhood           object\n",
      "target_no_show           bool\n",
      "dtype: object\n"
     ]
    }
   ],
   "source": [
    "print(data.dtypes)"
   ]
  },
  {
   "cell_type": "code",
   "execution_count": 43,
   "metadata": {},
   "outputs": [],
   "source": [
    "# Create age group categories and convert to one-hot encoding\n",
    "data['age_group'] = pd.cut(data['Age'], bins=[0, 30, 40, 50, 60, 100], labels=['<30', '30-40', '40-50', '50-60', '>60'])\n",
    "data = pd.get_dummies(data, columns=['age_group'], drop_first=True)"
   ]
  },
  {
   "cell_type": "code",
   "execution_count": 44,
   "metadata": {},
   "outputs": [
    {
     "data": {
      "text/html": [
       "<div>\n",
       "<style scoped>\n",
       "    .dataframe tbody tr th:only-of-type {\n",
       "        vertical-align: middle;\n",
       "    }\n",
       "\n",
       "    .dataframe tbody tr th {\n",
       "        vertical-align: top;\n",
       "    }\n",
       "\n",
       "    .dataframe thead th {\n",
       "        text-align: right;\n",
       "    }\n",
       "</style>\n",
       "<table border=\"1\" class=\"dataframe\">\n",
       "  <thead>\n",
       "    <tr style=\"text-align: right;\">\n",
       "      <th></th>\n",
       "      <th>Gender</th>\n",
       "      <th>Age</th>\n",
       "      <th>Alcohol_Consumption</th>\n",
       "      <th>Hypertension</th>\n",
       "      <th>Diabetes</th>\n",
       "      <th>Appointment_Date</th>\n",
       "      <th>Schedule_Date</th>\n",
       "      <th>Clinic_Location</th>\n",
       "      <th>Specialty</th>\n",
       "      <th>Neighborhood</th>\n",
       "      <th>target_no_show</th>\n",
       "      <th>age_group_30-40</th>\n",
       "      <th>age_group_40-50</th>\n",
       "      <th>age_group_50-60</th>\n",
       "      <th>age_group_&gt;60</th>\n",
       "    </tr>\n",
       "  </thead>\n",
       "  <tbody>\n",
       "    <tr>\n",
       "      <th>0</th>\n",
       "      <td>F</td>\n",
       "      <td>43</td>\n",
       "      <td>5/week</td>\n",
       "      <td>False</td>\n",
       "      <td>False</td>\n",
       "      <td>2021-01-14 10:30:00</td>\n",
       "      <td>2020-10-26</td>\n",
       "      <td>Mission Bay</td>\n",
       "      <td>Human Performance Center</td>\n",
       "      <td>Russian Hill</td>\n",
       "      <td>False</td>\n",
       "      <td>False</td>\n",
       "      <td>True</td>\n",
       "      <td>False</td>\n",
       "      <td>False</td>\n",
       "    </tr>\n",
       "    <tr>\n",
       "      <th>1</th>\n",
       "      <td>F</td>\n",
       "      <td>43</td>\n",
       "      <td>5/week</td>\n",
       "      <td>False</td>\n",
       "      <td>False</td>\n",
       "      <td>2021-01-14 10:30:00</td>\n",
       "      <td>2020-10-26</td>\n",
       "      <td>Mission Bay</td>\n",
       "      <td>Human Performance Center</td>\n",
       "      <td>Russian Hill</td>\n",
       "      <td>False</td>\n",
       "      <td>False</td>\n",
       "      <td>True</td>\n",
       "      <td>False</td>\n",
       "      <td>False</td>\n",
       "    </tr>\n",
       "  </tbody>\n",
       "</table>\n",
       "</div>"
      ],
      "text/plain": [
       "  Gender  Age Alcohol_Consumption  Hypertension  Diabetes  \\\n",
       "0      F   43              5/week         False     False   \n",
       "1      F   43              5/week         False     False   \n",
       "\n",
       "      Appointment_Date Schedule_Date Clinic_Location  \\\n",
       "0  2021-01-14 10:30:00    2020-10-26     Mission Bay   \n",
       "1  2021-01-14 10:30:00    2020-10-26     Mission Bay   \n",
       "\n",
       "                  Specialty  Neighborhood  target_no_show  age_group_30-40  \\\n",
       "0  Human Performance Center  Russian Hill           False            False   \n",
       "1  Human Performance Center  Russian Hill           False            False   \n",
       "\n",
       "   age_group_40-50  age_group_50-60  age_group_>60  \n",
       "0             True            False          False  \n",
       "1             True            False          False  "
      ]
     },
     "execution_count": 44,
     "metadata": {},
     "output_type": "execute_result"
    }
   ],
   "source": [
    "data.head(2)"
   ]
  },
  {
   "cell_type": "code",
   "execution_count": 45,
   "metadata": {},
   "outputs": [],
   "source": [
    "data.drop('Age',axis='columns',inplace=True)"
   ]
  },
  {
   "cell_type": "code",
   "execution_count": 46,
   "metadata": {},
   "outputs": [
    {
     "data": {
      "text/html": [
       "<div>\n",
       "<style scoped>\n",
       "    .dataframe tbody tr th:only-of-type {\n",
       "        vertical-align: middle;\n",
       "    }\n",
       "\n",
       "    .dataframe tbody tr th {\n",
       "        vertical-align: top;\n",
       "    }\n",
       "\n",
       "    .dataframe thead th {\n",
       "        text-align: right;\n",
       "    }\n",
       "</style>\n",
       "<table border=\"1\" class=\"dataframe\">\n",
       "  <thead>\n",
       "    <tr style=\"text-align: right;\">\n",
       "      <th></th>\n",
       "      <th>Gender</th>\n",
       "      <th>Alcohol_Consumption</th>\n",
       "      <th>Hypertension</th>\n",
       "      <th>Diabetes</th>\n",
       "      <th>Appointment_Date</th>\n",
       "      <th>Schedule_Date</th>\n",
       "      <th>Clinic_Location</th>\n",
       "      <th>Specialty</th>\n",
       "      <th>Neighborhood</th>\n",
       "      <th>target_no_show</th>\n",
       "      <th>age_group_30-40</th>\n",
       "      <th>age_group_40-50</th>\n",
       "      <th>age_group_50-60</th>\n",
       "      <th>age_group_&gt;60</th>\n",
       "    </tr>\n",
       "  </thead>\n",
       "  <tbody>\n",
       "    <tr>\n",
       "      <th>0</th>\n",
       "      <td>F</td>\n",
       "      <td>5/week</td>\n",
       "      <td>False</td>\n",
       "      <td>False</td>\n",
       "      <td>2021-01-14 10:30:00</td>\n",
       "      <td>2020-10-26</td>\n",
       "      <td>Mission Bay</td>\n",
       "      <td>Human Performance Center</td>\n",
       "      <td>Russian Hill</td>\n",
       "      <td>False</td>\n",
       "      <td>False</td>\n",
       "      <td>True</td>\n",
       "      <td>False</td>\n",
       "      <td>False</td>\n",
       "    </tr>\n",
       "    <tr>\n",
       "      <th>1</th>\n",
       "      <td>F</td>\n",
       "      <td>5/week</td>\n",
       "      <td>False</td>\n",
       "      <td>False</td>\n",
       "      <td>2021-01-14 10:30:00</td>\n",
       "      <td>2020-10-26</td>\n",
       "      <td>Mission Bay</td>\n",
       "      <td>Human Performance Center</td>\n",
       "      <td>Russian Hill</td>\n",
       "      <td>False</td>\n",
       "      <td>False</td>\n",
       "      <td>True</td>\n",
       "      <td>False</td>\n",
       "      <td>False</td>\n",
       "    </tr>\n",
       "  </tbody>\n",
       "</table>\n",
       "</div>"
      ],
      "text/plain": [
       "  Gender Alcohol_Consumption  Hypertension  Diabetes     Appointment_Date  \\\n",
       "0      F              5/week         False     False  2021-01-14 10:30:00   \n",
       "1      F              5/week         False     False  2021-01-14 10:30:00   \n",
       "\n",
       "  Schedule_Date Clinic_Location                 Specialty  Neighborhood  \\\n",
       "0    2020-10-26     Mission Bay  Human Performance Center  Russian Hill   \n",
       "1    2020-10-26     Mission Bay  Human Performance Center  Russian Hill   \n",
       "\n",
       "   target_no_show  age_group_30-40  age_group_40-50  age_group_50-60  \\\n",
       "0           False            False             True            False   \n",
       "1           False            False             True            False   \n",
       "\n",
       "   age_group_>60  \n",
       "0          False  \n",
       "1          False  "
      ]
     },
     "execution_count": 46,
     "metadata": {},
     "output_type": "execute_result"
    }
   ],
   "source": [
    "data.head(2)"
   ]
  },
  {
   "cell_type": "code",
   "execution_count": 47,
   "metadata": {},
   "outputs": [],
   "source": [
    "# Map 'Alcohol Consumption' to numeric values\n",
    "mapping_dict = {'0/week': 0, '1/week': 1, '5/week': 2, '10/week': 3, '> 14/week': 4}\n",
    "data['Alcohol_Consumption'] = data['Alcohol_Consumption'].map(mapping_dict)\n"
   ]
  },
  {
   "cell_type": "code",
   "execution_count": 48,
   "metadata": {},
   "outputs": [
    {
     "data": {
      "text/html": [
       "<div>\n",
       "<style scoped>\n",
       "    .dataframe tbody tr th:only-of-type {\n",
       "        vertical-align: middle;\n",
       "    }\n",
       "\n",
       "    .dataframe tbody tr th {\n",
       "        vertical-align: top;\n",
       "    }\n",
       "\n",
       "    .dataframe thead th {\n",
       "        text-align: right;\n",
       "    }\n",
       "</style>\n",
       "<table border=\"1\" class=\"dataframe\">\n",
       "  <thead>\n",
       "    <tr style=\"text-align: right;\">\n",
       "      <th></th>\n",
       "      <th>Gender</th>\n",
       "      <th>Alcohol_Consumption</th>\n",
       "      <th>Hypertension</th>\n",
       "      <th>Diabetes</th>\n",
       "      <th>Appointment_Date</th>\n",
       "      <th>Schedule_Date</th>\n",
       "      <th>Clinic_Location</th>\n",
       "      <th>Specialty</th>\n",
       "      <th>Neighborhood</th>\n",
       "      <th>target_no_show</th>\n",
       "      <th>age_group_30-40</th>\n",
       "      <th>age_group_40-50</th>\n",
       "      <th>age_group_50-60</th>\n",
       "      <th>age_group_&gt;60</th>\n",
       "    </tr>\n",
       "  </thead>\n",
       "  <tbody>\n",
       "    <tr>\n",
       "      <th>0</th>\n",
       "      <td>F</td>\n",
       "      <td>2</td>\n",
       "      <td>False</td>\n",
       "      <td>False</td>\n",
       "      <td>2021-01-14 10:30:00</td>\n",
       "      <td>2020-10-26</td>\n",
       "      <td>Mission Bay</td>\n",
       "      <td>Human Performance Center</td>\n",
       "      <td>Russian Hill</td>\n",
       "      <td>False</td>\n",
       "      <td>False</td>\n",
       "      <td>True</td>\n",
       "      <td>False</td>\n",
       "      <td>False</td>\n",
       "    </tr>\n",
       "    <tr>\n",
       "      <th>1</th>\n",
       "      <td>F</td>\n",
       "      <td>2</td>\n",
       "      <td>False</td>\n",
       "      <td>False</td>\n",
       "      <td>2021-01-14 10:30:00</td>\n",
       "      <td>2020-10-26</td>\n",
       "      <td>Mission Bay</td>\n",
       "      <td>Human Performance Center</td>\n",
       "      <td>Russian Hill</td>\n",
       "      <td>False</td>\n",
       "      <td>False</td>\n",
       "      <td>True</td>\n",
       "      <td>False</td>\n",
       "      <td>False</td>\n",
       "    </tr>\n",
       "  </tbody>\n",
       "</table>\n",
       "</div>"
      ],
      "text/plain": [
       "  Gender  Alcohol_Consumption  Hypertension  Diabetes     Appointment_Date  \\\n",
       "0      F                    2         False     False  2021-01-14 10:30:00   \n",
       "1      F                    2         False     False  2021-01-14 10:30:00   \n",
       "\n",
       "  Schedule_Date Clinic_Location                 Specialty  Neighborhood  \\\n",
       "0    2020-10-26     Mission Bay  Human Performance Center  Russian Hill   \n",
       "1    2020-10-26     Mission Bay  Human Performance Center  Russian Hill   \n",
       "\n",
       "   target_no_show  age_group_30-40  age_group_40-50  age_group_50-60  \\\n",
       "0           False            False             True            False   \n",
       "1           False            False             True            False   \n",
       "\n",
       "   age_group_>60  \n",
       "0          False  \n",
       "1          False  "
      ]
     },
     "execution_count": 48,
     "metadata": {},
     "output_type": "execute_result"
    }
   ],
   "source": [
    "data.head(2)"
   ]
  },
  {
   "cell_type": "code",
   "execution_count": 49,
   "metadata": {},
   "outputs": [],
   "source": [
    "# Convert 'Hypertension' and 'Diabetes' to integer\n",
    "data['Hypertension'] = data['Hypertension'].astype(int)\n",
    "data['Diabetes'] = data['Diabetes'].astype(int)"
   ]
  },
  {
   "cell_type": "code",
   "execution_count": 50,
   "metadata": {},
   "outputs": [],
   "source": [
    "# Convert 'target_no_show' to integer\n",
    "data['target_no_show'] = data['target_no_show'].astype(int)"
   ]
  },
  {
   "cell_type": "code",
   "execution_count": 51,
   "metadata": {},
   "outputs": [],
   "source": [
    "# Convert date columns to datetime format and extract features\n",
    "data['Appointment_Date'] = pd.to_datetime(data['Appointment_Date'])\n",
    "data['Schedule_Date'] = pd.to_datetime(data['Schedule_Date'])\n",
    "data['appointment_day'] = data['Appointment_Date'].dt.day\n",
    "data['appointment_month'] = data['Appointment_Date'].dt.month\n",
    "data['appointment_year'] = data['Appointment_Date'].dt.year\n",
    "data['appointment_dayofweek'] = data['Appointment_Date'].dt.dayofweek\n",
    "data['schedule_day'] = data['Schedule_Date'].dt.day\n",
    "data['schedule_month'] = data['Schedule_Date'].dt.month\n",
    "data['schedule_year'] = data['Schedule_Date'].dt.year\n",
    "data['schedule_dayofweek'] = data['Schedule_Date'].dt.dayofweek\n",
    "data['days_until_appointment'] = (data['Appointment_Date'] - data['Schedule_Date']).dt.days\n",
    " \n",
    "# Drop the original date columns if they are not needed anymore\n",
    "data.drop(columns=['Appointment_Date', 'Schedule_Date'], inplace=True)"
   ]
  },
  {
   "cell_type": "code",
   "execution_count": 52,
   "metadata": {},
   "outputs": [
    {
     "data": {
      "text/html": [
       "<div>\n",
       "<style scoped>\n",
       "    .dataframe tbody tr th:only-of-type {\n",
       "        vertical-align: middle;\n",
       "    }\n",
       "\n",
       "    .dataframe tbody tr th {\n",
       "        vertical-align: top;\n",
       "    }\n",
       "\n",
       "    .dataframe thead th {\n",
       "        text-align: right;\n",
       "    }\n",
       "</style>\n",
       "<table border=\"1\" class=\"dataframe\">\n",
       "  <thead>\n",
       "    <tr style=\"text-align: right;\">\n",
       "      <th></th>\n",
       "      <th>Gender</th>\n",
       "      <th>Alcohol_Consumption</th>\n",
       "      <th>Hypertension</th>\n",
       "      <th>Diabetes</th>\n",
       "      <th>Clinic_Location</th>\n",
       "      <th>Specialty</th>\n",
       "      <th>Neighborhood</th>\n",
       "      <th>target_no_show</th>\n",
       "      <th>age_group_30-40</th>\n",
       "      <th>age_group_40-50</th>\n",
       "      <th>...</th>\n",
       "      <th>age_group_&gt;60</th>\n",
       "      <th>appointment_day</th>\n",
       "      <th>appointment_month</th>\n",
       "      <th>appointment_year</th>\n",
       "      <th>appointment_dayofweek</th>\n",
       "      <th>schedule_day</th>\n",
       "      <th>schedule_month</th>\n",
       "      <th>schedule_year</th>\n",
       "      <th>schedule_dayofweek</th>\n",
       "      <th>days_until_appointment</th>\n",
       "    </tr>\n",
       "  </thead>\n",
       "  <tbody>\n",
       "    <tr>\n",
       "      <th>0</th>\n",
       "      <td>F</td>\n",
       "      <td>2</td>\n",
       "      <td>0</td>\n",
       "      <td>0</td>\n",
       "      <td>Mission Bay</td>\n",
       "      <td>Human Performance Center</td>\n",
       "      <td>Russian Hill</td>\n",
       "      <td>0</td>\n",
       "      <td>False</td>\n",
       "      <td>True</td>\n",
       "      <td>...</td>\n",
       "      <td>False</td>\n",
       "      <td>14</td>\n",
       "      <td>1</td>\n",
       "      <td>2021</td>\n",
       "      <td>3</td>\n",
       "      <td>26</td>\n",
       "      <td>10</td>\n",
       "      <td>2020</td>\n",
       "      <td>0</td>\n",
       "      <td>80</td>\n",
       "    </tr>\n",
       "    <tr>\n",
       "      <th>1</th>\n",
       "      <td>F</td>\n",
       "      <td>2</td>\n",
       "      <td>0</td>\n",
       "      <td>0</td>\n",
       "      <td>Mission Bay</td>\n",
       "      <td>Human Performance Center</td>\n",
       "      <td>Russian Hill</td>\n",
       "      <td>0</td>\n",
       "      <td>False</td>\n",
       "      <td>True</td>\n",
       "      <td>...</td>\n",
       "      <td>False</td>\n",
       "      <td>14</td>\n",
       "      <td>1</td>\n",
       "      <td>2021</td>\n",
       "      <td>3</td>\n",
       "      <td>26</td>\n",
       "      <td>10</td>\n",
       "      <td>2020</td>\n",
       "      <td>0</td>\n",
       "      <td>80</td>\n",
       "    </tr>\n",
       "  </tbody>\n",
       "</table>\n",
       "<p>2 rows × 21 columns</p>\n",
       "</div>"
      ],
      "text/plain": [
       "  Gender  Alcohol_Consumption  Hypertension  Diabetes Clinic_Location  \\\n",
       "0      F                    2             0         0     Mission Bay   \n",
       "1      F                    2             0         0     Mission Bay   \n",
       "\n",
       "                  Specialty  Neighborhood  target_no_show  age_group_30-40  \\\n",
       "0  Human Performance Center  Russian Hill               0            False   \n",
       "1  Human Performance Center  Russian Hill               0            False   \n",
       "\n",
       "   age_group_40-50  ...  age_group_>60  appointment_day  appointment_month  \\\n",
       "0             True  ...          False               14                  1   \n",
       "1             True  ...          False               14                  1   \n",
       "\n",
       "   appointment_year  appointment_dayofweek  schedule_day  schedule_month  \\\n",
       "0              2021                      3            26              10   \n",
       "1              2021                      3            26              10   \n",
       "\n",
       "   schedule_year  schedule_dayofweek  days_until_appointment  \n",
       "0           2020                   0                      80  \n",
       "1           2020                   0                      80  \n",
       "\n",
       "[2 rows x 21 columns]"
      ]
     },
     "execution_count": 52,
     "metadata": {},
     "output_type": "execute_result"
    }
   ],
   "source": [
    "data.head(2)"
   ]
  },
  {
   "cell_type": "code",
   "execution_count": 53,
   "metadata": {},
   "outputs": [],
   "source": [
    "# Apply One-Hot Encoding for nominal variables\n",
    "data = pd.get_dummies(data, columns=['Clinic_Location', 'Specialty', 'Neighborhood'])"
   ]
  },
  {
   "cell_type": "code",
   "execution_count": 54,
   "metadata": {},
   "outputs": [
    {
     "data": {
      "text/html": [
       "<div>\n",
       "<style scoped>\n",
       "    .dataframe tbody tr th:only-of-type {\n",
       "        vertical-align: middle;\n",
       "    }\n",
       "\n",
       "    .dataframe tbody tr th {\n",
       "        vertical-align: top;\n",
       "    }\n",
       "\n",
       "    .dataframe thead th {\n",
       "        text-align: right;\n",
       "    }\n",
       "</style>\n",
       "<table border=\"1\" class=\"dataframe\">\n",
       "  <thead>\n",
       "    <tr style=\"text-align: right;\">\n",
       "      <th></th>\n",
       "      <th>Gender</th>\n",
       "      <th>Alcohol_Consumption</th>\n",
       "      <th>Hypertension</th>\n",
       "      <th>Diabetes</th>\n",
       "      <th>target_no_show</th>\n",
       "      <th>age_group_30-40</th>\n",
       "      <th>age_group_40-50</th>\n",
       "      <th>age_group_50-60</th>\n",
       "      <th>age_group_&gt;60</th>\n",
       "      <th>appointment_day</th>\n",
       "      <th>...</th>\n",
       "      <th>Neighborhood_Presidio</th>\n",
       "      <th>Neighborhood_Presidio Heights</th>\n",
       "      <th>Neighborhood_Russian Hill</th>\n",
       "      <th>Neighborhood_Seacliff</th>\n",
       "      <th>Neighborhood_South of Market</th>\n",
       "      <th>Neighborhood_Treasure Island/YBI</th>\n",
       "      <th>Neighborhood_Twin Peaks</th>\n",
       "      <th>Neighborhood_Visitacion Valley</th>\n",
       "      <th>Neighborhood_West of Twin Peaks</th>\n",
       "      <th>Neighborhood_Western Addition</th>\n",
       "    </tr>\n",
       "  </thead>\n",
       "  <tbody>\n",
       "    <tr>\n",
       "      <th>0</th>\n",
       "      <td>F</td>\n",
       "      <td>2</td>\n",
       "      <td>0</td>\n",
       "      <td>0</td>\n",
       "      <td>0</td>\n",
       "      <td>False</td>\n",
       "      <td>True</td>\n",
       "      <td>False</td>\n",
       "      <td>False</td>\n",
       "      <td>14</td>\n",
       "      <td>...</td>\n",
       "      <td>False</td>\n",
       "      <td>False</td>\n",
       "      <td>True</td>\n",
       "      <td>False</td>\n",
       "      <td>False</td>\n",
       "      <td>False</td>\n",
       "      <td>False</td>\n",
       "      <td>False</td>\n",
       "      <td>False</td>\n",
       "      <td>False</td>\n",
       "    </tr>\n",
       "    <tr>\n",
       "      <th>1</th>\n",
       "      <td>F</td>\n",
       "      <td>2</td>\n",
       "      <td>0</td>\n",
       "      <td>0</td>\n",
       "      <td>0</td>\n",
       "      <td>False</td>\n",
       "      <td>True</td>\n",
       "      <td>False</td>\n",
       "      <td>False</td>\n",
       "      <td>14</td>\n",
       "      <td>...</td>\n",
       "      <td>False</td>\n",
       "      <td>False</td>\n",
       "      <td>True</td>\n",
       "      <td>False</td>\n",
       "      <td>False</td>\n",
       "      <td>False</td>\n",
       "      <td>False</td>\n",
       "      <td>False</td>\n",
       "      <td>False</td>\n",
       "      <td>False</td>\n",
       "    </tr>\n",
       "  </tbody>\n",
       "</table>\n",
       "<p>2 rows × 331 columns</p>\n",
       "</div>"
      ],
      "text/plain": [
       "  Gender  Alcohol_Consumption  Hypertension  Diabetes  target_no_show  \\\n",
       "0      F                    2             0         0               0   \n",
       "1      F                    2             0         0               0   \n",
       "\n",
       "   age_group_30-40  age_group_40-50  age_group_50-60  age_group_>60  \\\n",
       "0            False             True            False          False   \n",
       "1            False             True            False          False   \n",
       "\n",
       "   appointment_day  ...  Neighborhood_Presidio  Neighborhood_Presidio Heights  \\\n",
       "0               14  ...                  False                          False   \n",
       "1               14  ...                  False                          False   \n",
       "\n",
       "   Neighborhood_Russian Hill  Neighborhood_Seacliff  \\\n",
       "0                       True                  False   \n",
       "1                       True                  False   \n",
       "\n",
       "   Neighborhood_South of Market  Neighborhood_Treasure Island/YBI  \\\n",
       "0                         False                             False   \n",
       "1                         False                             False   \n",
       "\n",
       "   Neighborhood_Twin Peaks  Neighborhood_Visitacion Valley  \\\n",
       "0                    False                           False   \n",
       "1                    False                           False   \n",
       "\n",
       "   Neighborhood_West of Twin Peaks  Neighborhood_Western Addition  \n",
       "0                            False                          False  \n",
       "1                            False                          False  \n",
       "\n",
       "[2 rows x 331 columns]"
      ]
     },
     "execution_count": 54,
     "metadata": {},
     "output_type": "execute_result"
    }
   ],
   "source": [
    "data.head(2)"
   ]
  },
  {
   "cell_type": "code",
   "execution_count": 55,
   "metadata": {},
   "outputs": [],
   "source": [
    "from sklearn.preprocessing import LabelEncoder\n",
    "# Apply Label Encoding for ordinal or binary variables\n",
    "label_encoders = {}\n",
    "for column in ['Gender']:\n",
    "    le = LabelEncoder()\n",
    "    data[column] = le.fit_transform(data[column])\n",
    "    label_encoders[column] = le"
   ]
  },
  {
   "cell_type": "code",
   "execution_count": 56,
   "metadata": {},
   "outputs": [
    {
     "data": {
      "text/html": [
       "<div>\n",
       "<style scoped>\n",
       "    .dataframe tbody tr th:only-of-type {\n",
       "        vertical-align: middle;\n",
       "    }\n",
       "\n",
       "    .dataframe tbody tr th {\n",
       "        vertical-align: top;\n",
       "    }\n",
       "\n",
       "    .dataframe thead th {\n",
       "        text-align: right;\n",
       "    }\n",
       "</style>\n",
       "<table border=\"1\" class=\"dataframe\">\n",
       "  <thead>\n",
       "    <tr style=\"text-align: right;\">\n",
       "      <th></th>\n",
       "      <th>Gender</th>\n",
       "      <th>Alcohol_Consumption</th>\n",
       "      <th>Hypertension</th>\n",
       "      <th>Diabetes</th>\n",
       "      <th>target_no_show</th>\n",
       "      <th>age_group_30-40</th>\n",
       "      <th>age_group_40-50</th>\n",
       "      <th>age_group_50-60</th>\n",
       "      <th>age_group_&gt;60</th>\n",
       "      <th>appointment_day</th>\n",
       "      <th>...</th>\n",
       "      <th>Neighborhood_Presidio</th>\n",
       "      <th>Neighborhood_Presidio Heights</th>\n",
       "      <th>Neighborhood_Russian Hill</th>\n",
       "      <th>Neighborhood_Seacliff</th>\n",
       "      <th>Neighborhood_South of Market</th>\n",
       "      <th>Neighborhood_Treasure Island/YBI</th>\n",
       "      <th>Neighborhood_Twin Peaks</th>\n",
       "      <th>Neighborhood_Visitacion Valley</th>\n",
       "      <th>Neighborhood_West of Twin Peaks</th>\n",
       "      <th>Neighborhood_Western Addition</th>\n",
       "    </tr>\n",
       "  </thead>\n",
       "  <tbody>\n",
       "    <tr>\n",
       "      <th>0</th>\n",
       "      <td>0</td>\n",
       "      <td>2</td>\n",
       "      <td>0</td>\n",
       "      <td>0</td>\n",
       "      <td>0</td>\n",
       "      <td>False</td>\n",
       "      <td>True</td>\n",
       "      <td>False</td>\n",
       "      <td>False</td>\n",
       "      <td>14</td>\n",
       "      <td>...</td>\n",
       "      <td>False</td>\n",
       "      <td>False</td>\n",
       "      <td>True</td>\n",
       "      <td>False</td>\n",
       "      <td>False</td>\n",
       "      <td>False</td>\n",
       "      <td>False</td>\n",
       "      <td>False</td>\n",
       "      <td>False</td>\n",
       "      <td>False</td>\n",
       "    </tr>\n",
       "    <tr>\n",
       "      <th>1</th>\n",
       "      <td>0</td>\n",
       "      <td>2</td>\n",
       "      <td>0</td>\n",
       "      <td>0</td>\n",
       "      <td>0</td>\n",
       "      <td>False</td>\n",
       "      <td>True</td>\n",
       "      <td>False</td>\n",
       "      <td>False</td>\n",
       "      <td>14</td>\n",
       "      <td>...</td>\n",
       "      <td>False</td>\n",
       "      <td>False</td>\n",
       "      <td>True</td>\n",
       "      <td>False</td>\n",
       "      <td>False</td>\n",
       "      <td>False</td>\n",
       "      <td>False</td>\n",
       "      <td>False</td>\n",
       "      <td>False</td>\n",
       "      <td>False</td>\n",
       "    </tr>\n",
       "  </tbody>\n",
       "</table>\n",
       "<p>2 rows × 331 columns</p>\n",
       "</div>"
      ],
      "text/plain": [
       "   Gender  Alcohol_Consumption  Hypertension  Diabetes  target_no_show  \\\n",
       "0       0                    2             0         0               0   \n",
       "1       0                    2             0         0               0   \n",
       "\n",
       "   age_group_30-40  age_group_40-50  age_group_50-60  age_group_>60  \\\n",
       "0            False             True            False          False   \n",
       "1            False             True            False          False   \n",
       "\n",
       "   appointment_day  ...  Neighborhood_Presidio  Neighborhood_Presidio Heights  \\\n",
       "0               14  ...                  False                          False   \n",
       "1               14  ...                  False                          False   \n",
       "\n",
       "   Neighborhood_Russian Hill  Neighborhood_Seacliff  \\\n",
       "0                       True                  False   \n",
       "1                       True                  False   \n",
       "\n",
       "   Neighborhood_South of Market  Neighborhood_Treasure Island/YBI  \\\n",
       "0                         False                             False   \n",
       "1                         False                             False   \n",
       "\n",
       "   Neighborhood_Twin Peaks  Neighborhood_Visitacion Valley  \\\n",
       "0                    False                           False   \n",
       "1                    False                           False   \n",
       "\n",
       "   Neighborhood_West of Twin Peaks  Neighborhood_Western Addition  \n",
       "0                            False                          False  \n",
       "1                            False                          False  \n",
       "\n",
       "[2 rows x 331 columns]"
      ]
     },
     "execution_count": 56,
     "metadata": {},
     "output_type": "execute_result"
    }
   ],
   "source": [
    "data.head(2)"
   ]
  },
  {
   "cell_type": "code",
   "execution_count": 57,
   "metadata": {},
   "outputs": [
    {
     "name": "stdout",
     "output_type": "stream",
     "text": [
      "Gender                              int64\n",
      "Alcohol_Consumption                 int64\n",
      "Hypertension                        int64\n",
      "Diabetes                            int64\n",
      "target_no_show                      int64\n",
      "                                    ...  \n",
      "Neighborhood_Treasure Island/YBI     bool\n",
      "Neighborhood_Twin Peaks              bool\n",
      "Neighborhood_Visitacion Valley       bool\n",
      "Neighborhood_West of Twin Peaks      bool\n",
      "Neighborhood_Western Addition        bool\n",
      "Length: 331, dtype: object\n"
     ]
    }
   ],
   "source": [
    "# Check data types of all columns\n",
    "print(data.dtypes)"
   ]
  },
  {
   "cell_type": "code",
   "execution_count": 58,
   "metadata": {},
   "outputs": [
    {
     "name": "stdout",
     "output_type": "stream",
     "text": [
      "Gender                              int64\n",
      "Alcohol_Consumption                 int64\n",
      "Hypertension                        int64\n",
      "Diabetes                            int64\n",
      "target_no_show                      int64\n",
      "                                    ...  \n",
      "Neighborhood_Treasure Island/YBI    int64\n",
      "Neighborhood_Twin Peaks             int64\n",
      "Neighborhood_Visitacion Valley      int64\n",
      "Neighborhood_West of Twin Peaks     int64\n",
      "Neighborhood_Western Addition       int64\n",
      "Length: 331, dtype: object\n"
     ]
    }
   ],
   "source": [
    "# Convert all boolean columns to integers (0 and 1)\n",
    "data = data.astype({col: 'int64' for col in data.select_dtypes(include='bool').columns})\n",
    "\n",
    "# Verify the conversion\n",
    "print(data.dtypes)"
   ]
  },
  {
   "cell_type": "code",
   "execution_count": 59,
   "metadata": {},
   "outputs": [
    {
     "name": "stdout",
     "output_type": "stream",
     "text": [
      "Number of 0s in 'target_no_show': 126852\n",
      "Number of 1s in 'target_no_show': 5350\n"
     ]
    }
   ],
   "source": [
    "# Count the number of 0s and 1s in the 'target_no_show' column\n",
    "value_counts = data['target_no_show'].value_counts()\n",
    "\n",
    "# Print the counts\n",
    "print(f\"Number of 0s in 'target_no_show': {value_counts[0]}\")\n",
    "print(f\"Number of 1s in 'target_no_show': {value_counts[1]}\")"
   ]
  },
  {
   "cell_type": "code",
   "execution_count": 60,
   "metadata": {},
   "outputs": [
    {
     "name": "stdout",
     "output_type": "stream",
     "text": [
      "(132202, 330)\n",
      "(132202,)\n"
     ]
    }
   ],
   "source": [
    "# Create independent and Dependent Features\n",
    "columns = data.columns.tolist()\n",
    "# Filter the columns to remove data we do not want\n",
    "columns = [c for c in columns if c not in [\"target_no_show\"]]\n",
    "# Store the variable we are predicting\n",
    "target = \"target_no_show\"\n",
    " \n",
    "# Define a random state\n",
    "state = np.random.RandomState(42)\n",
    "X = data[columns]\n",
    "Y = data[target]\n",
    "X_outliers = state.uniform(low=0, high=1, size=(X.shape[0], X.shape[1]))\n",
    "# Print the shapes of X & Y\n",
    "print(X.shape)\n",
    "print(Y.shape)"
   ]
  },
  {
   "cell_type": "code",
   "execution_count": 61,
   "metadata": {},
   "outputs": [],
   "source": [
    "# Remove rows with any missing values\n",
    "data = data.dropna()"
   ]
  },
  {
   "cell_type": "code",
   "execution_count": 62,
   "metadata": {},
   "outputs": [
    {
     "data": {
      "text/plain": [
       "np.False_"
      ]
     },
     "execution_count": 62,
     "metadata": {},
     "output_type": "execute_result"
    }
   ],
   "source": [
    "# Check if there are still any missing values\n",
    "data.isnull().values.any()"
   ]
  },
  {
   "cell_type": "code",
   "execution_count": 63,
   "metadata": {},
   "outputs": [
    {
     "name": "stderr",
     "output_type": "stream",
     "text": [
      "/var/folders/0z/lpdq6xc50fb_51rn5s1nddzh0000gn/T/ipykernel_5037/2872962731.py:1: FutureWarning: pandas.value_counts is deprecated and will be removed in a future version. Use pd.Series(obj).value_counts() instead.\n",
      "  count_classes = pd.value_counts(data['target_no_show'], sort = True)\n"
     ]
    },
    {
     "data": {
      "text/plain": [
       "Text(0, 0.5, 'Frequency')"
      ]
     },
     "execution_count": 63,
     "metadata": {},
     "output_type": "execute_result"
    },
    {
     "data": {
      "image/png": "[encoded data removed]",
      "text/plain": [
       "<Figure size 1400x800 with 1 Axes>"
      ]
     },
     "metadata": {},
     "output_type": "display_data"
    }
   ],
   "source": [
    "count_classes = pd.value_counts(data['target_no_show'], sort = True)\n",
    "count_classes.plot(kind = 'bar', rot=0)\n",
    "plt. title(\"No_Show Distribution\")\n",
    "plt. xticks(range(2), LABELS)\n",
    "plt. xlabel(\"target_no_show\")\n",
    "plt. ylabel (\"Frequency\")"
   ]
  },
  {
   "cell_type": "code",
   "execution_count": 33,
   "metadata": {},
   "outputs": [
    {
     "name": "stdout",
     "output_type": "stream",
     "text": [
      "Accuracy: 0.99\n",
      "Precision: 1.00\n",
      "Recall: 0.98\n",
      "F1 Score: 0.99\n",
      "Confusion Matrix:\n",
      "[[37895    27]\n",
      " [  663 37527]]\n"
     ]
    },
    {
     "data": {
      "text/plain": [
       "{'accuracy': 0.9909344124448182,\n",
       " 'precision': np.float64(0.9992810353091548),\n",
       " 'recall': np.float64(0.9826394344069128),\n",
       " 'f1': np.float64(0.9908903675538656),\n",
       " 'confusion_matrix': array([[37895,    27],\n",
       "        [  663, 37527]])}"
      ]
     },
     "execution_count": 33,
     "metadata": {},
     "output_type": "execute_result"
    }
   ],
   "source": [
    "from imblearn.over_sampling import SMOTE\n",
    "from sklearn.ensemble import RandomForestClassifier\n",
    "from sklearn.model_selection import train_test_split\n",
    "\n",
    "# Apply SMOTE\n",
    "smote = SMOTE(random_state=42)\n",
    "X_res, y_res = smote.fit_resample(X, Y)\n",
    "\n",
    "# Split the resampled data\n",
    "X_train, X_test, y_train, y_test = train_test_split(X_res, y_res, test_size=0.3, random_state=42)\n",
    "\n",
    "# Initialize Random Forest\n",
    "rf = RandomForestClassifier(n_estimators=100, random_state=42)\n",
    "\n",
    "# Train the model\n",
    "rf.fit(X_train, y_train)\n",
    "\n",
    "# Make predictions\n",
    "y_pred = rf.predict(X_test)\n",
    "\n",
    "\n",
    "from sklearn.metrics import accuracy_score, precision_score, recall_score, f1_score, confusion_matrix\n",
    "\n",
    "def evaluate_model(y_test, y_pred):\n",
    "    # Calculate metrics\n",
    "    accuracy = accuracy_score(y_test, y_pred)\n",
    "    precision = precision_score(y_test, y_pred)\n",
    "    recall = recall_score(y_test, y_pred)\n",
    "    f1 = f1_score(y_test, y_pred)\n",
    "    conf_matrix = confusion_matrix(y_test, y_pred)\n",
    "    \n",
    "    # Print the results\n",
    "    print(f\"Accuracy: {accuracy:.2f}\")\n",
    "    print(f\"Precision: {precision:.2f}\")\n",
    "    print(f\"Recall: {recall:.2f}\")\n",
    "    print(f\"F1 Score: {f1:.2f}\")\n",
    "    print(\"Confusion Matrix:\")\n",
    "    print(conf_matrix)\n",
    "    \n",
    "    # Return the results in a dictionary\n",
    "    return {\n",
    "        'accuracy': accuracy,\n",
    "        'precision': precision,\n",
    "        'recall': recall,\n",
    "        'f1': f1,\n",
    "        'confusion_matrix': conf_matrix\n",
    "    }\n",
    "# Evaluate the model\n",
    "evaluate_model(y_test, y_pred)"
   ]
  },
  {
   "cell_type": "code",
   "execution_count": 64,
   "metadata": {},
   "outputs": [
    {
     "name": "stdout",
     "output_type": "stream",
     "text": [
      "Accuracy: 0.98\n",
      "Precision: 0.98\n",
      "Recall: 0.55\n",
      "F1 Score: 0.70\n",
      "Confusion Matrix:\n",
      "[[37977    17]\n",
      " [  754   913]]\n"
     ]
    },
    {
     "data": {
      "text/plain": [
       "{'accuracy': 0.9805602481026702,\n",
       " 'precision': np.float64(0.9817204301075269),\n",
       " 'recall': np.float64(0.5476904619076185),\n",
       " 'f1': np.float64(0.7031189834424336),\n",
       " 'confusion_matrix': array([[37977,    17],\n",
       "        [  754,   913]])}"
      ]
     },
     "execution_count": 64,
     "metadata": {},
     "output_type": "execute_result"
    }
   ],
   "source": [
    "from sklearn.model_selection import train_test_split\n",
    "from imblearn.over_sampling import SMOTE\n",
    "from sklearn.ensemble import RandomForestClassifier\n",
    "from sklearn.metrics import accuracy_score, precision_score, recall_score, f1_score, confusion_matrix\n",
    "\n",
    "# Load and preprocess data (your existing preprocessing code)\n",
    "\n",
    "# Split the data\n",
    "X = data[columns]\n",
    "Y = data[target]\n",
    "X_train, X_test, y_train, y_test = train_test_split(X, Y, test_size=0.3, random_state=42)\n",
    "\n",
    "# Apply SMOTE only to the training data\n",
    "smote = SMOTE(random_state=42)\n",
    "X_train_res, y_train_res = smote.fit_resample(X_train, y_train)\n",
    "\n",
    "# Initialize Random Forest\n",
    "rf = RandomForestClassifier(n_estimators=100, random_state=42)\n",
    "\n",
    "# Train the model on the resampled training data\n",
    "rf.fit(X_train_res, y_train_res)\n",
    "\n",
    "# Make predictions on the original test data\n",
    "y_pred = rf.predict(X_test)\n",
    "\n",
    "# Define and use evaluate_model function to print and return metrics\n",
    "def evaluate_model(y_test, y_pred):\n",
    "    accuracy = accuracy_score(y_test, y_pred)\n",
    "    precision = precision_score(y_test, y_pred)\n",
    "    recall = recall_score(y_test, y_pred)\n",
    "    f1 = f1_score(y_test, y_pred)\n",
    "    conf_matrix = confusion_matrix(y_test, y_pred)\n",
    "    \n",
    "    print(f\"Accuracy: {accuracy:.2f}\")\n",
    "    print(f\"Precision: {precision:.2f}\")\n",
    "    print(f\"Recall: {recall:.2f}\")\n",
    "    print(f\"F1 Score: {f1:.2f}\")\n",
    "    print(\"Confusion Matrix:\")\n",
    "    print(conf_matrix)\n",
    "    \n",
    "    return {\n",
    "        'accuracy': accuracy,\n",
    "        'precision': precision,\n",
    "        'recall': recall,\n",
    "        'f1': f1,\n",
    "        'confusion_matrix': conf_matrix\n",
    "    }\n",
    "\n",
    "# Evaluate the model\n",
    "evaluate_model(y_test, y_pred)\n"
   ]
  },
  {
   "cell_type": "code",
   "execution_count": 32,
   "metadata": {},
   "outputs": [],
   "source": [
    "from sklearn.model_selection import train_test_split, RandomizedSearchCV, StratifiedKFold\n",
    "from sklearn.ensemble import RandomForestClassifier\n",
    "from sklearn.metrics import classification_report, confusion_matrix\n",
    "from sklearn.preprocessing import StandardScaler\n",
    "from sklearn.impute import SimpleImputer\n",
    "from imblearn.over_sampling import SMOTE\n",
    " \n",
    "import numpy as np\n",
    "import pandas as pd\n",
    "import sklearn\n",
    "import scipy\n",
    "import matplotlib.pyplot as plt\n",
    "import seaborn as sns\n",
    "from sklearn.metrics import classification_report, accuracy_score\n",
    "from sklearn.ensemble import IsolationForest\n",
    "from sklearn.neighbors import LocalOutlierFactor\n",
    "from sklearn.svm import OneClassSVM\n",
    "from pylab import rcParams\n",
    " \n",
    "rcParams['figure.figsize'] = 14, 8\n",
    "RANDOM_SEED = 42\n",
    "# Define labels for the target variable\n",
    "LABELS = [\"Show\", \"No Show\"]"
   ]
  },
  {
   "cell_type": "code",
   "execution_count": 33,
   "metadata": {},
   "outputs": [
    {
     "data": {
      "text/plain": [
       "Gender                 object\n",
       "Age                     int64\n",
       "Alcohol_Consumption    object\n",
       "Hypertension             bool\n",
       "Diabetes                 bool\n",
       "Appointment_Date       object\n",
       "Schedule_Date          object\n",
       "Clinic_Location        object\n",
       "Specialty              object\n",
       "Neighborhood           object\n",
       "target_no_show           bool\n",
       "dtype: object"
      ]
     },
     "execution_count": 33,
     "metadata": {},
     "output_type": "execute_result"
    }
   ],
   "source": [
    "data = pd.read_csv('raw_data.csv')\n",
    "data.dtypes"
   ]
  },
  {
   "cell_type": "code",
   "execution_count": 34,
   "metadata": {},
   "outputs": [
    {
     "name": "stdout",
     "output_type": "stream",
     "text": [
      "Gender                 object\n",
      "Age                     int64\n",
      "Alcohol_Consumption    object\n",
      "Hypertension             bool\n",
      "Diabetes                 bool\n",
      "Appointment_Date       object\n",
      "Schedule_Date          object\n",
      "Clinic_Location        object\n",
      "Specialty              object\n",
      "Neighborhood           object\n",
      "target_no_show          int64\n",
      "dtype: object\n"
     ]
    }
   ],
   "source": [
    "# Convert target_no_show from bool to int\n",
    "data['target_no_show'] = data['target_no_show'].astype(int)\n",
    "\n",
    "# Check the data types again\n",
    "print(data.dtypes)\n",
    "\n"
   ]
  },
  {
   "cell_type": "code",
   "execution_count": 35,
   "metadata": {},
   "outputs": [
    {
     "name": "stdout",
     "output_type": "stream",
     "text": [
      "target_no_show\n",
      "0    126852\n",
      "1      5350\n",
      "Name: count, dtype: int64\n"
     ]
    }
   ],
   "source": [
    "import pandas as pd\n",
    "\n",
    "# Assuming df is your DataFrame\n",
    "target_counts = data['target_no_show'].value_counts()\n",
    "print(target_counts)\n"
   ]
  },
  {
   "cell_type": "code",
   "execution_count": 36,
   "metadata": {},
   "outputs": [
    {
     "name": "stdout",
     "output_type": "stream",
     "text": [
      "target_no_show\n",
      "0    26852\n",
      "1     5350\n",
      "Name: count, dtype: int64\n"
     ]
    }
   ],
   "source": [
    "import pandas as pd\n",
    "\n",
    "# Separate the classes\n",
    "class_0 = data[data['target_no_show'] == 0]\n",
    "class_1 = data[data['target_no_show'] == 1]\n",
    "\n",
    "# Randomly select 100,000 samples to remove from class 0\n",
    "class_0_to_remove = class_0.sample(n=100000, random_state=42)\n",
    "\n",
    "# Keep the remaining samples from class 0\n",
    "class_0_remaining = class_0.drop(class_0_to_remove.index)\n",
    "\n",
    "# Concatenate the remaining class 0 samples with all class 1 samples\n",
    "data_reduced = pd.concat([class_0_remaining, class_1], axis=0)\n",
    "\n",
    "# Shuffle the resulting dataset (optional)\n",
    "data_reduced = data_reduced.sample(frac=1, random_state=42).reset_index(drop=True)\n",
    "\n",
    "# Verify the new class distribution\n",
    "print(data_reduced['target_no_show'].value_counts())\n"
   ]
  },
  {
   "cell_type": "code",
   "execution_count": 37,
   "metadata": {},
   "outputs": [
    {
     "name": "stdout",
     "output_type": "stream",
     "text": [
      "New CSV file 'reduced_data.csv' has been created.\n"
     ]
    }
   ],
   "source": [
    "# Save the reduced dataset to a new CSV file\n",
    "# data_reduced.to_csv(\"reduced_data.csv\", index=False)\n",
    "\n",
    "# print(\"New CSV file 'reduced_data.csv' has been created.\")\n"
   ]
  },
  {
   "cell_type": "code",
   "execution_count": 38,
   "metadata": {},
   "outputs": [],
   "source": [
    "data = pd.read_csv('reduced_data.csv')"
   ]
  },
  {
   "cell_type": "code",
   "execution_count": 39,
   "metadata": {},
   "outputs": [],
   "source": [
    "# Create age group categories and convert to one-hot encoding\n",
    "data['age_group'] = pd.cut(data['Age'], bins=[0, 30, 40, 50, 60, 100], labels=['<30', '30-40', '40-50', '50-60', '>60'])\n",
    "data = pd.get_dummies(data, columns=['age_group'], drop_first=True)\n",
    "data.drop('Age',axis='columns',inplace=True)"
   ]
  },
  {
   "cell_type": "code",
   "execution_count": 40,
   "metadata": {},
   "outputs": [],
   "source": [
    "# Map 'Alcohol Consumption' to numeric values\n",
    "mapping_dict = {'0/week': 0, '1/week': 1, '5/week': 2, '10/week': 3, '> 14/week': 4}\n",
    "data['Alcohol_Consumption'] = data['Alcohol_Consumption'].map(mapping_dict)"
   ]
  },
  {
   "cell_type": "code",
   "execution_count": 41,
   "metadata": {},
   "outputs": [],
   "source": [
    "# Convert 'Hypertension' and 'Diabetes' to integer\n",
    "data['Hypertension'] = data['Hypertension'].astype(int)\n",
    "data['Diabetes'] = data['Diabetes'].astype(int)"
   ]
  },
  {
   "cell_type": "code",
   "execution_count": 42,
   "metadata": {},
   "outputs": [],
   "source": [
    "# Convert 'target_no_show' to integer\n",
    "data['target_no_show'] = data['target_no_show'].astype(int)"
   ]
  },
  {
   "cell_type": "code",
   "execution_count": 43,
   "metadata": {},
   "outputs": [],
   "source": [
    "# Convert date columns to datetime format and extract features\n",
    "data['Appointment_Date'] = pd.to_datetime(data['Appointment_Date'])\n",
    "data['Schedule_Date'] = pd.to_datetime(data['Schedule_Date'])\n",
    "data['appointment_day'] = data['Appointment_Date'].dt.day\n",
    "data['appointment_month'] = data['Appointment_Date'].dt.month\n",
    "data['appointment_year'] = data['Appointment_Date'].dt.year\n",
    "data['appointment_dayofweek'] = data['Appointment_Date'].dt.dayofweek\n",
    "data['schedule_day'] = data['Schedule_Date'].dt.day\n",
    "data['schedule_month'] = data['Schedule_Date'].dt.month\n",
    "data['schedule_year'] = data['Schedule_Date'].dt.year\n",
    "data['schedule_dayofweek'] = data['Schedule_Date'].dt.dayofweek\n",
    "data['days_until_appointment'] = (data['Appointment_Date'] - data['Schedule_Date']).dt.days\n",
    " \n",
    "# Drop the original date columns if they are not needed anymore\n",
    "data.drop(columns=['Appointment_Date', 'Schedule_Date'], inplace=True)"
   ]
  },
  {
   "cell_type": "code",
   "execution_count": 44,
   "metadata": {},
   "outputs": [],
   "source": [
    "# Apply One-Hot Encoding for nominal variables\n",
    "data = pd.get_dummies(data, columns=['Clinic_Location', 'Specialty', 'Neighborhood'])"
   ]
  },
  {
   "cell_type": "code",
   "execution_count": 45,
   "metadata": {},
   "outputs": [],
   "source": [
    "from sklearn.preprocessing import LabelEncoder\n",
    "# Apply Label Encoding for ordinal or binary variables\n",
    "label_encoders = {}\n",
    "for column in ['Gender']:\n",
    "    le = LabelEncoder()\n",
    "    data[column] = le.fit_transform(data[column])\n",
    "    label_encoders[column] = le"
   ]
  },
  {
   "cell_type": "code",
   "execution_count": 46,
   "metadata": {},
   "outputs": [
    {
     "name": "stdout",
     "output_type": "stream",
     "text": [
      "Gender                              int64\n",
      "Alcohol_Consumption                 int64\n",
      "Hypertension                        int64\n",
      "Diabetes                            int64\n",
      "target_no_show                      int64\n",
      "                                    ...  \n",
      "Neighborhood_Treasure Island/YBI    int64\n",
      "Neighborhood_Twin Peaks             int64\n",
      "Neighborhood_Visitacion Valley      int64\n",
      "Neighborhood_West of Twin Peaks     int64\n",
      "Neighborhood_Western Addition       int64\n",
      "Length: 331, dtype: object\n"
     ]
    }
   ],
   "source": [
    "# Convert all boolean columns to integers (0 and 1)\n",
    "data = data.astype({col: 'int64' for col in data.select_dtypes(include='bool').columns})\n",
    "\n",
    "# Verify the conversion\n",
    "print(data.dtypes)"
   ]
  },
  {
   "cell_type": "code",
   "execution_count": 47,
   "metadata": {},
   "outputs": [
    {
     "name": "stdout",
     "output_type": "stream",
     "text": [
      "Number of 0s in 'target_no_show': 26852\n",
      "Number of 1s in 'target_no_show': 5350\n"
     ]
    }
   ],
   "source": [
    "# Count the number of 0s and 1s in the 'target_no_show' column\n",
    "value_counts = data['target_no_show'].value_counts()\n",
    "\n",
    "# Print the counts\n",
    "print(f\"Number of 0s in 'target_no_show': {value_counts[0]}\")\n",
    "print(f\"Number of 1s in 'target_no_show': {value_counts[1]}\")"
   ]
  },
  {
   "cell_type": "code",
   "execution_count": 48,
   "metadata": {},
   "outputs": [
    {
     "name": "stdout",
     "output_type": "stream",
     "text": [
      "(32202, 330)\n",
      "(32202,)\n"
     ]
    }
   ],
   "source": [
    "# Create independent and Dependent Features\n",
    "columns = data.columns.tolist()\n",
    "# Filter the columns to remove data we do not want\n",
    "columns = [c for c in columns if c not in [\"target_no_show\"]]\n",
    "# Store the variable we are predicting\n",
    "target = \"target_no_show\"\n",
    " \n",
    "# Define a random state\n",
    "state = np.random.RandomState(42)\n",
    "X = data[columns]\n",
    "Y = data[target]\n",
    "X_outliers = state.uniform(low=0, high=1, size=(X.shape[0], X.shape[1]))\n",
    "# Print the shapes of X & Y\n",
    "print(X.shape)\n",
    "print(Y.shape)"
   ]
  },
  {
   "cell_type": "code",
   "execution_count": 49,
   "metadata": {},
   "outputs": [],
   "source": [
    "# Remove rows with any missing values\n",
    "data = data.dropna()"
   ]
  },
  {
   "cell_type": "code",
   "execution_count": 50,
   "metadata": {},
   "outputs": [
    {
     "data": {
      "text/plain": [
       "np.False_"
      ]
     },
     "execution_count": 50,
     "metadata": {},
     "output_type": "execute_result"
    }
   ],
   "source": [
    "# Check if there are still any missing values\n",
    "data.isnull().values.any()"
   ]
  },
  {
   "cell_type": "code",
   "execution_count": 51,
   "metadata": {},
   "outputs": [
    {
     "name": "stderr",
     "output_type": "stream",
     "text": [
      "/var/folders/0z/lpdq6xc50fb_51rn5s1nddzh0000gn/T/ipykernel_3243/2872962731.py:1: FutureWarning: pandas.value_counts is deprecated and will be removed in a future version. Use pd.Series(obj).value_counts() instead.\n",
      "  count_classes = pd.value_counts(data['target_no_show'], sort = True)\n"
     ]
    },
    {
     "data": {
      "text/plain": [
       "Text(0, 0.5, 'Frequency')"
      ]
     },
     "execution_count": 51,
     "metadata": {},
     "output_type": "execute_result"
    },
    {
     "data": {
      "image/png": "[encoded data removed]",
      "text/plain": [
       "<Figure size 1400x800 with 1 Axes>"
      ]
     },
     "metadata": {},
     "output_type": "display_data"
    }
   ],
   "source": [
    "count_classes = pd.value_counts(data['target_no_show'], sort = True)\n",
    "count_classes.plot(kind = 'bar', rot=0)\n",
    "plt. title(\"No_Show Distribution\")\n",
    "plt. xticks(range(2), LABELS)\n",
    "plt. xlabel(\"target_no_show\")\n",
    "plt. ylabel (\"Frequency\")"
   ]
  },
  {
   "cell_type": "code",
   "execution_count": null,
   "metadata": {},
   "outputs": [],
   "source": [
    "from imblearn.over_sampling import SMOTE\n",
    "from sklearn.ensemble import RandomForestClassifier\n",
    "from sklearn.model_selection import train_test_split\n",
    "\n",
    "# Apply SMOTE\n",
    "smote = SMOTE(random_state=42)\n",
    "X_res, y_res = smote.fit_resample(X, Y)\n",
    "\n",
    "# Split the resampled data\n",
    "X_train, X_test, y_train, y_test = train_test_split(X_res, y_res, test_size=0.3, random_state=42)\n",
    "\n",
    "# Initialize Random Forest\n",
    "rf = RandomForestClassifier(n_estimators=100, random_state=42)\n",
    "\n",
    "# Train the model\n",
    "rf.fit(X_train, y_train)\n",
    "\n",
    "# Make predictions\n",
    "y_pred = rf.predict(X_test)\n",
    "\n",
    "\n",
    "from sklearn.metrics import accuracy_score, precision_score, recall_score, f1_score, confusion_matrix\n",
    "\n",
    "def evaluate_model(y_test, y_pred):\n",
    "    # Calculate metrics\n",
    "    accuracy = accuracy_score(y_test, y_pred)\n",
    "    precision = precision_score(y_test, y_pred)\n",
    "    recall = recall_score(y_test, y_pred)\n",
    "    f1 = f1_score(y_test, y_pred)\n",
    "    conf_matrix = confusion_matrix(y_test, y_pred)\n",
    "    \n",
    "    # Print the results\n",
    "    print(f\"Accuracy: {accuracy:.2f}\")\n",
    "    print(f\"Precision: {precision:.2f}\")\n",
    "    print(f\"Recall: {recall:.2f}\")\n",
    "    print(f\"F1 Score: {f1:.2f}\")\n",
    "    print(\"Confusion Matrix:\")\n",
    "    print(conf_matrix)\n",
    "    \n",
    "    # Return the results in a dictionary\n",
    "    return {\n",
    "        'accuracy': accuracy,\n",
    "        'precision': precision,\n",
    "        'recall': recall,\n",
    "        'f1': f1,\n",
    "        'confusion_matrix': conf_matrix\n",
    "    }\n",
    "# Evaluate the model\n",
    "evaluate_model(y_test, y_pred)"
   ]
  },
  {
   "cell_type": "code",
   "execution_count": null,
   "metadata": {},
   "outputs": [],
   "source": [
    "import tensorflow as tf \n",
    "from tensorflow import keras \n",
    "\n",
    "model = keras.Sequential([\n",
    "    keras.layers.Dense(20,input_shape=(26,),activation='relu'),\n",
    "    keras.layers.Dense(1,activation='sigmoid')\n",
    "])\n",
    "\n",
    "model.compile(optimizer='adam',loss='binary_crossentropy',metrics=['accuracy'])\n",
    "\n",
    "model.fit(X_train,y_train,epochs=100)"
   ]
  },
  {
   "cell_type": "code",
   "execution_count": 52,
   "metadata": {},
   "outputs": [
    {
     "name": "stderr",
     "output_type": "stream",
     "text": [
      "/Users/govindkumargupta/Documents/No_Show_MLProject/venv/lib/python3.9/site-packages/keras/src/layers/core/dense.py:87: UserWarning: Do not pass an `input_shape`/`input_dim` argument to a layer. When using Sequential models, prefer using an `Input(shape)` object as the first layer in the model instead.\n",
      "  super().__init__(activity_regularizer=activity_regularizer, **kwargs)\n"
     ]
    },
    {
     "ename": "ValueError",
     "evalue": "object __array__ method not producing an array",
     "output_type": "error",
     "traceback": [
      "\u001b[0;31m---------------------------------------------------------------------------\u001b[0m",
      "\u001b[0;31mValueError\u001b[0m                                Traceback (most recent call last)",
      "\u001b[1;32m/Users/govindkumargupta/Documents/No_Show_MLProject/test/testing.ipynb Cell 50\u001b[0m line \u001b[0;36m3\n\u001b[1;32m     <a href='vscode-notebook-cell:/Users/govindkumargupta/Documents/No_Show_MLProject/test/testing.ipynb#Y103sZmlsZQ%3D%3D?line=30'>31</a>\u001b[0m model\u001b[39m.\u001b[39mcompile(optimizer\u001b[39m=\u001b[39m\u001b[39m'\u001b[39m\u001b[39madam\u001b[39m\u001b[39m'\u001b[39m,\n\u001b[1;32m     <a href='vscode-notebook-cell:/Users/govindkumargupta/Documents/No_Show_MLProject/test/testing.ipynb#Y103sZmlsZQ%3D%3D?line=31'>32</a>\u001b[0m               loss\u001b[39m=\u001b[39m\u001b[39m'\u001b[39m\u001b[39mbinary_crossentropy\u001b[39m\u001b[39m'\u001b[39m,\n\u001b[1;32m     <a href='vscode-notebook-cell:/Users/govindkumargupta/Documents/No_Show_MLProject/test/testing.ipynb#Y103sZmlsZQ%3D%3D?line=32'>33</a>\u001b[0m               metrics\u001b[39m=\u001b[39m[\u001b[39m'\u001b[39m\u001b[39maccuracy\u001b[39m\u001b[39m'\u001b[39m])\n\u001b[1;32m     <a href='vscode-notebook-cell:/Users/govindkumargupta/Documents/No_Show_MLProject/test/testing.ipynb#Y103sZmlsZQ%3D%3D?line=34'>35</a>\u001b[0m \u001b[39m# Train the model\u001b[39;00m\n\u001b[0;32m---> <a href='vscode-notebook-cell:/Users/govindkumargupta/Documents/No_Show_MLProject/test/testing.ipynb#Y103sZmlsZQ%3D%3D?line=35'>36</a>\u001b[0m history \u001b[39m=\u001b[39m model\u001b[39m.\u001b[39;49mfit(X_train, y_train, epochs\u001b[39m=\u001b[39;49m\u001b[39m10\u001b[39;49m, batch_size\u001b[39m=\u001b[39;49m\u001b[39m32\u001b[39;49m, validation_split\u001b[39m=\u001b[39;49m\u001b[39m0.2\u001b[39;49m)\n\u001b[1;32m     <a href='vscode-notebook-cell:/Users/govindkumargupta/Documents/No_Show_MLProject/test/testing.ipynb#Y103sZmlsZQ%3D%3D?line=37'>38</a>\u001b[0m \u001b[39m# Evaluate the model\u001b[39;00m\n\u001b[1;32m     <a href='vscode-notebook-cell:/Users/govindkumargupta/Documents/No_Show_MLProject/test/testing.ipynb#Y103sZmlsZQ%3D%3D?line=38'>39</a>\u001b[0m loss, accuracy \u001b[39m=\u001b[39m model\u001b[39m.\u001b[39mevaluate(X_test, y_test)\n",
      "File \u001b[0;32m~/Documents/No_Show_MLProject/venv/lib/python3.9/site-packages/keras/src/utils/traceback_utils.py:122\u001b[0m, in \u001b[0;36mfilter_traceback.<locals>.error_handler\u001b[0;34m(*args, **kwargs)\u001b[0m\n\u001b[1;32m    119\u001b[0m     filtered_tb \u001b[39m=\u001b[39m _process_traceback_frames(e\u001b[39m.\u001b[39m__traceback__)\n\u001b[1;32m    120\u001b[0m     \u001b[39m# To get the full stack trace, call:\u001b[39;00m\n\u001b[1;32m    121\u001b[0m     \u001b[39m# `keras.config.disable_traceback_filtering()`\u001b[39;00m\n\u001b[0;32m--> 122\u001b[0m     \u001b[39mraise\u001b[39;00m e\u001b[39m.\u001b[39mwith_traceback(filtered_tb) \u001b[39mfrom\u001b[39;00m \u001b[39mNone\u001b[39;00m\n\u001b[1;32m    123\u001b[0m \u001b[39mfinally\u001b[39;00m:\n\u001b[1;32m    124\u001b[0m     \u001b[39mdel\u001b[39;00m filtered_tb\n",
      "File \u001b[0;32m~/Documents/No_Show_MLProject/venv/lib/python3.9/site-packages/tensorflow/python/framework/constant_op.py:108\u001b[0m, in \u001b[0;36mconvert_to_eager_tensor\u001b[0;34m(value, ctx, dtype)\u001b[0m\n\u001b[1;32m    106\u001b[0m     dtype \u001b[39m=\u001b[39m dtypes\u001b[39m.\u001b[39mas_dtype(dtype)\u001b[39m.\u001b[39mas_datatype_enum\n\u001b[1;32m    107\u001b[0m ctx\u001b[39m.\u001b[39mensure_initialized()\n\u001b[0;32m--> 108\u001b[0m \u001b[39mreturn\u001b[39;00m ops\u001b[39m.\u001b[39;49mEagerTensor(value, ctx\u001b[39m.\u001b[39;49mdevice_name, dtype)\n",
      "\u001b[0;31mValueError\u001b[0m: object __array__ method not producing an array"
     ]
    }
   ],
   "source": [
    "import pandas as pd\n",
    "import numpy as np\n",
    "from imblearn.over_sampling import SMOTE\n",
    "from sklearn.model_selection import train_test_split\n",
    "from sklearn.metrics import classification_report, precision_score, recall_score, f1_score, accuracy_score\n",
    "import tensorflow as tf\n",
    "from tensorflow.keras import layers, models\n",
    "\n",
    "# Assuming data is your preprocessed DataFrame\n",
    "X = data.drop(columns=['target_no_show'])\n",
    "y = data['target_no_show']\n",
    "\n",
    "# Apply SMOTE to balance the classes\n",
    "smote = SMOTE(random_state=42)\n",
    "X_smote, y_smote = smote.fit_resample(X, y)\n",
    "\n",
    "# Convert to TensorFlow-compatible format\n",
    "X_smote = np.array(X_smote)\n",
    "y_smote = np.array(y_smote)\n",
    "\n",
    "# Split the data into training and testing sets\n",
    "X_train, X_test, y_train, y_test = train_test_split(X_smote, y_smote, test_size=0.2, random_state=42)\n",
    "\n",
    "# Define a simple TensorFlow model\n",
    "model = models.Sequential()\n",
    "model.add(layers.Dense(64, activation='relu', input_shape=(X_train.shape[1],)))\n",
    "model.add(layers.Dense(32, activation='relu'))\n",
    "model.add(layers.Dense(1, activation='sigmoid'))\n",
    "\n",
    "# Compile the model\n",
    "model.compile(optimizer='adam',\n",
    "              loss='binary_crossentropy',\n",
    "              metrics=['accuracy'])\n",
    "\n",
    "# Train the model\n",
    "history = model.fit(X_train, y_train, epochs=10, batch_size=32, validation_split=0.2)\n",
    "\n",
    "# Evaluate the model\n",
    "loss, accuracy = model.evaluate(X_test, y_test)\n",
    "print(f\"Test Accuracy: {accuracy:.2f}\")\n",
    "\n",
    "# Predict the labels for the test set\n",
    "y_pred = (model.predict(X_test) > 0.5).astype(\"int32\")\n",
    "\n",
    "# Calculate and print classification metrics\n",
    "precision = precision_score(y_test, y_pred)\n",
    "recall = recall_score(y_test, y_pred)\n",
    "f1 = f1_score(y_test, y_pred)\n",
    "\n",
    "print(f\"Precision: {precision:.2f}\")\n",
    "print(f\"Recall: {recall:.2f}\")\n",
    "print(f\"F1 Score: {f1:.2f}\")\n",
    "print(f\"Accuracy: {accuracy_score(y_test, y_pred):.2f}\")\n",
    "\n",
    "# Generate and print the full classification report\n",
    "print(\"\\nClassification Report:\")\n",
    "print(classification_report(y_test, y_pred, target_names=LABELS))\n"
   ]
  },
  {
   "cell_type": "code",
   "execution_count": 60,
   "metadata": {},
   "outputs": [
    {
     "name": "stdout",
     "output_type": "stream",
     "text": [
      "Initial Data Types:\n",
      " Gender                 object\n",
      "Age                     int64\n",
      "Alcohol_Consumption    object\n",
      "Hypertension             bool\n",
      "Diabetes                 bool\n",
      "Appointment_Date       object\n",
      "Schedule_Date          object\n",
      "Clinic_Location        object\n",
      "Specialty              object\n",
      "Neighborhood           object\n",
      "target_no_show          int64\n",
      "dtype: object\n",
      "\n",
      "Data Types After Conversion:\n",
      " Gender                              int64\n",
      "Alcohol_Consumption                 int64\n",
      "Hypertension                        int64\n",
      "Diabetes                            int64\n",
      "target_no_show                      int64\n",
      "                                    ...  \n",
      "Neighborhood_Treasure Island/YBI    int64\n",
      "Neighborhood_Twin Peaks             int64\n",
      "Neighborhood_Visitacion Valley      int64\n",
      "Neighborhood_West of Twin Peaks     int64\n",
      "Neighborhood_Western Addition       int64\n",
      "Length: 323, dtype: object\n",
      "\n",
      "Shapes and Types of Arrays:\n",
      "X_smote type: <class 'numpy.ndarray'>, dtype: float32, shape: (53704, 322)\n",
      "y_smote type: <class 'numpy.ndarray'>, dtype: float32, shape: (53704,)\n",
      "\n",
      "X_train type: <class 'numpy.ndarray'>, dtype: float32, shape: (42963, 322)\n",
      "y_train type: <class 'numpy.ndarray'>, dtype: float32, shape: (42963,)\n",
      "Error during model training: object __array__ method not producing an array\n"
     ]
    },
    {
     "name": "stderr",
     "output_type": "stream",
     "text": [
      "/Users/govindkumargupta/Documents/No_Show_MLProject/venv/lib/python3.9/site-packages/keras/src/layers/core/dense.py:87: UserWarning: Do not pass an `input_shape`/`input_dim` argument to a layer. When using Sequential models, prefer using an `Input(shape)` object as the first layer in the model instead.\n",
      "  super().__init__(activity_regularizer=activity_regularizer, **kwargs)\n"
     ]
    },
    {
     "ename": "ValueError",
     "evalue": "object __array__ method not producing an array",
     "output_type": "error",
     "traceback": [
      "\u001b[0;31m---------------------------------------------------------------------------\u001b[0m",
      "\u001b[0;31mValueError\u001b[0m                                Traceback (most recent call last)",
      "\u001b[1;32m/Users/govindkumargupta/Documents/No_Show_MLProject/test/testing.ipynb Cell 51\u001b[0m line \u001b[0;36m1\n\u001b[1;32m     <a href='vscode-notebook-cell:/Users/govindkumargupta/Documents/No_Show_MLProject/test/testing.ipynb#Y104sZmlsZQ%3D%3D?line=98'>99</a>\u001b[0m     \u001b[39mprint\u001b[39m(\u001b[39mf\u001b[39m\u001b[39m\"\u001b[39m\u001b[39mError during model training: \u001b[39m\u001b[39m{\u001b[39;00me\u001b[39m}\u001b[39;00m\u001b[39m\"\u001b[39m)\n\u001b[1;32m    <a href='vscode-notebook-cell:/Users/govindkumargupta/Documents/No_Show_MLProject/test/testing.ipynb#Y104sZmlsZQ%3D%3D?line=100'>101</a>\u001b[0m \u001b[39m# Evaluate the model\u001b[39;00m\n\u001b[0;32m--> <a href='vscode-notebook-cell:/Users/govindkumargupta/Documents/No_Show_MLProject/test/testing.ipynb#Y104sZmlsZQ%3D%3D?line=101'>102</a>\u001b[0m loss, accuracy \u001b[39m=\u001b[39m model\u001b[39m.\u001b[39;49mevaluate(X_test, y_test)\n\u001b[1;32m    <a href='vscode-notebook-cell:/Users/govindkumargupta/Documents/No_Show_MLProject/test/testing.ipynb#Y104sZmlsZQ%3D%3D?line=102'>103</a>\u001b[0m \u001b[39mprint\u001b[39m(\u001b[39mf\u001b[39m\u001b[39m\"\u001b[39m\u001b[39m\\n\u001b[39;00m\u001b[39mTest Accuracy: \u001b[39m\u001b[39m{\u001b[39;00maccuracy\u001b[39m:\u001b[39;00m\u001b[39m.2f\u001b[39m\u001b[39m}\u001b[39;00m\u001b[39m\"\u001b[39m)\n\u001b[1;32m    <a href='vscode-notebook-cell:/Users/govindkumargupta/Documents/No_Show_MLProject/test/testing.ipynb#Y104sZmlsZQ%3D%3D?line=104'>105</a>\u001b[0m \u001b[39m# Predict the labels for the test set\u001b[39;00m\n",
      "File \u001b[0;32m~/Documents/No_Show_MLProject/venv/lib/python3.9/site-packages/keras/src/utils/traceback_utils.py:122\u001b[0m, in \u001b[0;36mfilter_traceback.<locals>.error_handler\u001b[0;34m(*args, **kwargs)\u001b[0m\n\u001b[1;32m    119\u001b[0m     filtered_tb \u001b[39m=\u001b[39m _process_traceback_frames(e\u001b[39m.\u001b[39m__traceback__)\n\u001b[1;32m    120\u001b[0m     \u001b[39m# To get the full stack trace, call:\u001b[39;00m\n\u001b[1;32m    121\u001b[0m     \u001b[39m# `keras.config.disable_traceback_filtering()`\u001b[39;00m\n\u001b[0;32m--> 122\u001b[0m     \u001b[39mraise\u001b[39;00m e\u001b[39m.\u001b[39mwith_traceback(filtered_tb) \u001b[39mfrom\u001b[39;00m \u001b[39mNone\u001b[39;00m\n\u001b[1;32m    123\u001b[0m \u001b[39mfinally\u001b[39;00m:\n\u001b[1;32m    124\u001b[0m     \u001b[39mdel\u001b[39;00m filtered_tb\n",
      "File \u001b[0;32m~/Documents/No_Show_MLProject/venv/lib/python3.9/site-packages/tensorflow/python/framework/constant_op.py:108\u001b[0m, in \u001b[0;36mconvert_to_eager_tensor\u001b[0;34m(value, ctx, dtype)\u001b[0m\n\u001b[1;32m    106\u001b[0m     dtype \u001b[39m=\u001b[39m dtypes\u001b[39m.\u001b[39mas_dtype(dtype)\u001b[39m.\u001b[39mas_datatype_enum\n\u001b[1;32m    107\u001b[0m ctx\u001b[39m.\u001b[39mensure_initialized()\n\u001b[0;32m--> 108\u001b[0m \u001b[39mreturn\u001b[39;00m ops\u001b[39m.\u001b[39;49mEagerTensor(value, ctx\u001b[39m.\u001b[39;49mdevice_name, dtype)\n",
      "\u001b[0;31mValueError\u001b[0m: object __array__ method not producing an array"
     ]
    }
   ],
   "source": [
    "import pandas as pd\n",
    "import numpy as np\n",
    "from imblearn.over_sampling import SMOTE\n",
    "from sklearn.model_selection import train_test_split\n",
    "from sklearn.metrics import classification_report, precision_score, recall_score, f1_score, accuracy_score\n",
    "import tensorflow as tf\n",
    "from tensorflow.keras import layers, models\n",
    "from sklearn.preprocessing import LabelEncoder\n",
    "\n",
    "# Load the data\n",
    "data = pd.read_csv('reduced_data.csv')\n",
    "\n",
    "# Check for and handle missing values (if any)\n",
    "data = data.dropna()\n",
    "\n",
    "# Convert 'target_no_show' from bool to int\n",
    "data['target_no_show'] = data['target_no_show'].astype(int)\n",
    "\n",
    "# Verify data types before processing\n",
    "print(\"Initial Data Types:\\n\", data.dtypes)\n",
    "\n",
    "# Create age group categories and one-hot encoding\n",
    "data['age_group'] = pd.cut(data['Age'], bins=[0, 30, 40, 50, 60, 100], labels=['<30', '30-40', '40-50', '50-60', '>60'])\n",
    "data = pd.get_dummies(data, columns=['age_group'], drop_first=True)\n",
    "data.drop('Age', axis='columns', inplace=True)\n",
    "\n",
    "# Map 'Alcohol Consumption' to numeric values\n",
    "mapping_dict = {'0/week': 0, '1/week': 1, '5/week': 2, '10/week': 3, '> 14/week': 4}\n",
    "data['Alcohol_Consumption'] = data['Alcohol_Consumption'].map(mapping_dict)\n",
    "\n",
    "# Convert other necessary columns to integers\n",
    "data['Hypertension'] = data['Hypertension'].astype(int)\n",
    "data['Diabetes'] = data['Diabetes'].astype(int)\n",
    "\n",
    "# Convert date columns to datetime format and extract features\n",
    "data['Appointment_Date'] = pd.to_datetime(data['Appointment_Date'])\n",
    "data['Schedule_Date'] = pd.to_datetime(data['Schedule_Date'])\n",
    "data['days_until_appointment'] = (data['Appointment_Date'] - data['Schedule_Date']).dt.days\n",
    "\n",
    "# Drop the original date columns if not needed anymore\n",
    "data.drop(columns=['Appointment_Date', 'Schedule_Date'], inplace=True)\n",
    "\n",
    "# Apply One-Hot Encoding for nominal variables\n",
    "data = pd.get_dummies(data, columns=['Clinic_Location', 'Specialty', 'Neighborhood'])\n",
    "\n",
    "# Apply Label Encoding for binary variables\n",
    "le = LabelEncoder()\n",
    "data['Gender'] = le.fit_transform(data['Gender'])\n",
    "\n",
    "# Convert boolean columns to integers\n",
    "bool_columns = data.select_dtypes(include=['bool']).columns\n",
    "for column in bool_columns:\n",
    "    data[column] = data[column].astype(int)\n",
    "\n",
    "# Verify data types after conversion\n",
    "print(\"\\nData Types After Conversion:\\n\", data.dtypes)\n",
    "\n",
    "# Ensure all data is numeric\n",
    "assert data.apply(lambda x: np.issubdtype(x.dtype, np.number)).all(), \"Non-numeric data found in dataset\"\n",
    "\n",
    "# Create feature and target arrays\n",
    "X = data.drop(columns=['target_no_show']).values\n",
    "y = data['target_no_show'].values\n",
    "\n",
    "# Apply SMOTE to balance the classes\n",
    "smote = SMOTE(random_state=42)\n",
    "X_smote, y_smote = smote.fit_resample(X, y)\n",
    "\n",
    "# Convert to TensorFlow-compatible format and ensure data type consistency\n",
    "X_smote = np.array(X_smote, dtype=np.float32)\n",
    "y_smote = np.array(y_smote, dtype=np.float32)\n",
    "\n",
    "# Verify shapes and types of the arrays\n",
    "print(\"\\nShapes and Types of Arrays:\")\n",
    "print(f\"X_smote type: {type(X_smote)}, dtype: {X_smote.dtype}, shape: {X_smote.shape}\")\n",
    "print(f\"y_smote type: {type(y_smote)}, dtype: {y_smote.dtype}, shape: {y_smote.shape}\")\n",
    "\n",
    "# Split the data into training and testing sets\n",
    "X_train, X_test, y_train, y_test = train_test_split(X_smote, y_smote, test_size=0.2, random_state=42)\n",
    "\n",
    "# Print shapes and types for debugging\n",
    "print(f\"\\nX_train type: {type(X_train)}, dtype: {X_train.dtype}, shape: {X_train.shape}\")\n",
    "print(f\"y_train type: {type(y_train)}, dtype: {y_train.dtype}, shape: {y_train.shape}\")\n",
    "\n",
    "# Define a simple TensorFlow model\n",
    "model = models.Sequential([\n",
    "    layers.Dense(64, activation='relu', input_shape=(X_train.shape[1],)),\n",
    "    layers.Dense(32, activation='relu'),\n",
    "    layers.Dense(1, activation='sigmoid')\n",
    "])\n",
    "\n",
    "# Compile the model\n",
    "model.compile(optimizer='adam', loss='binary_crossentropy', metrics=['accuracy'])\n",
    "\n",
    "# Train the model\n",
    "try:\n",
    "    history = model.fit(X_train, y_train, epochs=10, batch_size=32, validation_split=0.2)\n",
    "except Exception as e:\n",
    "    print(f\"Error during model training: {e}\")\n",
    "\n",
    "# Evaluate the model\n",
    "loss, accuracy = model.evaluate(X_test, y_test)\n",
    "print(f\"\\nTest Accuracy: {accuracy:.2f}\")\n",
    "\n",
    "# Predict the labels for the test set\n",
    "y_pred = (model.predict(X_test) > 0.5).astype(\"int32\")\n",
    "\n",
    "# Calculate and print classification metrics\n",
    "precision = precision_score(y_test, y_pred)\n",
    "recall = recall_score(y_test, y_pred)\n",
    "f1 = f1_score(y_test, y_pred)\n",
    "\n",
    "print(f\"Precision: {precision:.2f}\")\n",
    "print(f\"Recall: {recall:.2f}\")\n",
    "print(f\"F1 Score: {f1:.2f}\")\n",
    "print(f\"Accuracy: {accuracy_score(y_test, y_pred):.2f}\")\n",
    "\n",
    "# Generate and print the full classification report\n",
    "LABELS = [\"Show\", \"No Show\"]\n",
    "print(\"\\nClassification Report:\")\n",
    "print(classification_report(y_test, y_pred, target_names=LABELS))\n"
   ]
  }
 ],
 "metadata": {
  "kernelspec": {
   "display_name": "Python 3",
   "language": "python",
   "name": "python3"
  },
  "language_info": {
   "codemirror_mode": {
    "name": "ipython",
    "version": 3
   },
   "file_extension": ".py",
   "mimetype": "text/x-python",
   "name": "python",
   "nbconvert_exporter": "python",
   "pygments_lexer": "ipython3",
   "version": "3.9.17"
  }
 },
 "nbformat": 4,
 "nbformat_minor": 2
}
